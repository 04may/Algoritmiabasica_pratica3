{
 "cells": [
  {
   "cell_type": "markdown",
   "id": "1a44ba83-2677-4992-87e1-d98aebc11001",
   "metadata": {},
   "source": [
    "## Busqueda con retroceso"
   ]
  },
  {
   "cell_type": "markdown",
   "id": "1ad49661-e0ba-4940-bf56-055524d9720f",
   "metadata": {},
   "source": [
    "ouverture du fichier"
   ]
  },
  {
   "cell_type": "code",
   "execution_count": 97,
   "id": "9317fe71-0b77-4629-b3ae-a9a959871271",
   "metadata": {},
   "outputs": [],
   "source": [
    "def open_file(path):\n",
    "    test=[]\n",
    "    \n",
    "    with open(path, 'r') as f:\n",
    "        lignes = f.readlines()\n",
    "        for i in range (0, len(lignes), 2):\n",
    "            m,n = lignes[i].split()\n",
    "            taille = [int(m),int(n)]\n",
    "             \n",
    "            \n",
    "            figures = lignes[i+1].split()\n",
    "            liste = [taille]\n",
    "            for i in range (0,len(figures), 2):\n",
    "                coordonnees = [figures[i], figures[i+1]]\n",
    "                liste.append(coordonnees)\n",
    "        \n",
    "            test.append(liste)\n",
    "            \n",
    "     \n",
    "            \n",
    "        return test"
   ]
  },
  {
   "cell_type": "code",
   "execution_count": 99,
   "id": "7b4de5bb-13a7-4f07-af0e-bd72c43f85e5",
   "metadata": {},
   "outputs": [
    {
     "name": "stdout",
     "output_type": "stream",
     "text": [
      "['3 4\\n', '0 0 1 1 1 2\\n', '3 6\\n', '2 1 2 4 0 4\\n', '4 3\\n', '2 0 3 2 0 2\\n', '6 6\\n', '3 1 5 4 2 4']\n"
     ]
    }
   ],
   "source": [
    "donnees = open_file(\"C:/Users/combl/Documents/Espagne/Algoritmo_basico/practicas/p3/test.txt\")"
   ]
  },
  {
   "cell_type": "markdown",
   "id": "ba0d4504-f4d7-42cf-b269-d9a0ac49d2cb",
   "metadata": {},
   "source": [
    "fonction pour determiner les points auxquels il y a un check point"
   ]
  },
  {
   "cell_type": "code",
   "execution_count": 150,
   "id": "42464681-f0cf-4417-8a17-41089e43c341",
   "metadata": {},
   "outputs": [],
   "source": [
    "def checkpoints(taille):\n",
    "    etapes = []\n",
    "    for i in range(1, 4,1):\n",
    "        etapes.append( i*taille[0]*taille[1]//4)\n",
    "    return etapes\n",
    "        "
   ]
  },
  {
   "cell_type": "markdown",
   "id": "b546464a-f8c9-4022-9b67-6ed96f0f6069",
   "metadata": {},
   "source": [
    "conditions à remplir:\n",
    "on ne doit pas retourner là où on était deja\n",
    "il faut arriver pile au bon moment sur le checkpoint\n",
    "il faut verifier au point si c'est possible d'y arriver de là où on est\n",
    "il faut verifier qu'il n'y ait pas de zonnes auquels on ne peut pas accéder"
   ]
  },
  {
   "cell_type": "code",
   "execution_count": 372,
   "id": "8de2b1dd-21d9-4d1b-b264-0e920ccdb7e7",
   "metadata": {},
   "outputs": [],
   "source": [
    "import numpy as np"
   ]
  },
  {
   "cell_type": "markdown",
   "id": "4a5d5b85-9fe3-4a0e-86f4-4cebf2fe9fc5",
   "metadata": {},
   "source": [
    "Création de la première matrice avec une bordure de 1 et un centre de 0 "
   ]
  },
  {
   "cell_type": "code",
   "execution_count": 375,
   "id": "890afcb3-d462-4de6-9066-005969f3ae81",
   "metadata": {},
   "outputs": [],
   "source": [
    "def new_matrice(taille):\n",
    "    matrice = np.empty((taille[0]+2,taille[1]+2))\n",
    "    for i in range (0, taille[0]+2, 1):\n",
    "        for j in range(0,taille[1]+2,1):\n",
    "            if (i ==0 or j == 0 or i== taille[0]+1 or j== taille[1]+1) or (i==1 and j==1):\n",
    "                matrice[i][j]=1\n",
    "            else :\n",
    "                matrice[i][j] = 0\n",
    "    return matrice\n",
    "        "
   ]
  },
  {
   "cell_type": "code",
   "execution_count": 377,
   "id": "b701dded-7599-49e0-b3ba-dc41e7604128",
   "metadata": {},
   "outputs": [],
   "source": [
    "def verif_manhatan_dist (coord, point, etape, etape_point):\n",
    "    dist = abs (coord[0] - int( point[0])) + abs(coord[1] - int( point[1]))\n",
    "    print(\"dist\", dist)\n",
    "    print(\"nb_etapes-restantes\", int(etape_point)-etape)\n",
    "    if dist > (int(etape_point)-etape):\n",
    "        return False\n",
    "    else:\n",
    "        return True\n",
    "    "
   ]
  },
  {
   "cell_type": "code",
   "execution_count": 379,
   "id": "d7445831-007f-4d21-bb48-b3b73643ab0f",
   "metadata": {},
   "outputs": [],
   "source": [
    "def verification_entoure(matrice):\n",
    "    ##revoir la solution finale\n",
    "    for i in range (1, matrice.shape[0]-1,1):\n",
    "        for j in range(1, matrice.shape[1]-1):\n",
    "            voisins = [(1,-1),(1,0),(1,1),(0,-1),(0,0),(0,1),(-1,-1),(-1,0),(-1,1)]\n",
    "            compteur = 0\n",
    "            for x in range(0, len(voisins)):\n",
    "                case_x = voisins[x][0]+i\n",
    "                case_y = voisins[x][1]+j\n",
    "                if matrice[case_x, case_y] == 1:\n",
    "                    compteur += 1\n",
    "            if compteur == 6:\n",
    "                return False\n",
    "    return True\n",
    "    \n",
    "            \n",
    "            "
   ]
  },
  {
   "cell_type": "code",
   "execution_count": 381,
   "id": "087d51ef-595d-4b40-b654-0d61fd817fc3",
   "metadata": {},
   "outputs": [],
   "source": [
    "def creation_matrice_marquee(matrice, coor):\n",
    "    new_matrice = np.empty((matrice.shape[0],matrice.shape[1]))\n",
    "    for i in range (0,matrice.shape[0],1):\n",
    "        for j in range (0,matrice.shape[1],1):\n",
    "            if (i == coor[0] and j == coor[1]) :\n",
    "                new_matrice[i][j]= 1\n",
    "            else:\n",
    "                new_matrice[i][j] = matrice[i][j]\n",
    "    return new_matrice\n",
    "            "
   ]
  },
  {
   "cell_type": "code",
   "execution_count": 401,
   "id": "3dcb9eff-3d08-483c-ae0c-1350fcdcc89e",
   "metadata": {},
   "outputs": [],
   "source": [
    "def parcourir_voisins(coordonnees, liste_solution, etape, checkpoint, etape_actuelle):\n",
    "    voisins = [(1,-1),(1,0),(1,1),(0,-1),(0,0),(0,1),(-1,-1),(-1,0),(-1,1)]\n",
    "    matrice = liste_solution[len(liste_solutions)-1]\n",
    "    print(\"matrice_au_debut\", matrice)\n",
    "   \n",
    "\n",
    "    #voir comment mettre à jour\n",
    "    \n",
    "    \n",
    "    for i in range(0, len(voisins)):\n",
    "        case_x = voisins[i][0]+coordonnees[0]\n",
    "        print(\"x:\",case_x)\n",
    "       \n",
    "        case_y = voisins[i][1]+coordonnees[1]\n",
    "        print(\"y:\",case_y)\n",
    "        if matrice[case_x][case_y]==0:\n",
    "            if (case_x == int(etape[0]) and case_y == int(etape[1])):\n",
    "                if etape_actuelle == checkpoint:\n",
    "                    print(\"je suis au checkpoint\")\n",
    "                    new_matrice = creation_matrice_marquee(matrice,(case_x,case_y))\n",
    "                    print(new_matrice)\n",
    "                    \n",
    "                    if verification_entoure(new_matrice):\n",
    "                        print(\"il n'y a pas de point bloqué\")\n",
    "                    else:\n",
    "                        print(\"je suis bloqué\")\n",
    "                        \n",
    "                else:\n",
    "                    print(\"je suis trop tot au checkpoint\")\n",
    "                    \n",
    "            else:\n",
    "                if verif_manhatan_dist ((case_x,case_y), etape, etape_actuelle, checkpoint):\n",
    "                    new_matrice = creation_matrice_marquee(matrice,(case_x,case_y))\n",
    "                    print(new_matrice)\n",
    "                    print(\"c'est encore possible pour moi\")\n",
    "                    liste_solution.append((case_x,case_y))\n",
    "                    if verification_entoure(matrice):\n",
    "                        print(\"il n'y a pas de point bloqué\")\n",
    "                    else:\n",
    "                        print(\"je suis bloqué\")\n",
    "                        \n",
    "                else:\n",
    "                    print(\"ce n'est plus possible pour moi\")\n",
    "                    \n",
    "           \n",
    "        else:\n",
    "            print(\"la case est déjà parcourue\")\n",
    "            \n",
    "    return 0\n",
    "      \n",
    "              \n",
    "    \n",
    "    "
   ]
  },
  {
   "cell_type": "code",
   "execution_count": 403,
   "id": "93781ebe-94f7-481e-8be1-cd7e8bcfc1f6",
   "metadata": {},
   "outputs": [],
   "source": [
    "def programme_final(chemin):\n",
    "    ##inverser les lignes à la fin!!\n",
    "    \n",
    "    donnees = open_file(chemin)\n",
    "    print(\"donnees:\" ,donnees)\n",
    "\n",
    "    ##creer des listes et boucler après\n",
    "    taille = donnees[1][0] #meme jeux que le sujet pour l'instant\n",
    "    print(\"taille:\",taille)\n",
    "    premier_jeu = donnees[1] #meme jeux que le sujet pour l'instant\n",
    "    premier_jeu_etapes = premier_jeu[1:len(premier_jeu)]\n",
    "    ##regler le porobleme du fait qu'on doit ajouter 1 partout\n",
    "        \n",
    "    print (premier_jeu)\n",
    "    premier_jeu_checkpoint = checkpoints(taille)\n",
    "    print(\"checkpoints:\",premier_jeu_checkpoint)\n",
    "\n",
    "    matrice = new_matrice(taille)\n",
    "    etapes = premier_jeu_etapes\n",
    "    checkpoint = premier_jeu_checkpoint\n",
    "    ##initialisation \n",
    "    liste_solutions = [[(1,1),matrice]]\n",
    "    prochaine_etape = etapes[0]\n",
    "    prochain_checkpoint = checkpoint[0]\n",
    "    etape_actuelle = 0\n",
    "\n",
    "    parcourir_voisins((1,1), liste_solutions[0], prochaine_etape, prochain_checkpoint,  etape_actuelle)\n",
    "    \n",
    "   \n",
    "    \n",
    "\n",
    "    \n",
    "    \n",
    "    "
   ]
  },
  {
   "cell_type": "code",
   "execution_count": 405,
   "id": "07190505-f49d-48a7-988e-501a1b55ae6c",
   "metadata": {},
   "outputs": [
    {
     "name": "stdout",
     "output_type": "stream",
     "text": [
      "['3 4\\n', '0 0 1 1 1 2\\n', '3 6\\n', '2 1 2 4 0 4\\n', '4 3\\n', '2 0 3 2 0 2\\n', '6 6\\n', '3 1 5 4 2 4']\n",
      "donnees: [[[3, 4], ['0', '0'], ['1', '1'], ['1', '2']], [[3, 6], ['2', '1'], ['2', '4'], ['0', '4']], [[4, 3], ['2', '0'], ['3', '2'], ['0', '2']], [[6, 6], ['3', '1'], ['5', '4'], ['2', '4']]]\n",
      "taille: [3, 6]\n",
      "[[3, 6], ['2', '1'], ['2', '4'], ['0', '4']]\n",
      "checkpoints: [4, 9, 13]\n",
      "matrice_au_debut [[1. 1. 1. 1. 1. 1. 1. 1.]\n",
      " [1. 1. 0. 0. 0. 0. 0. 1.]\n",
      " [1. 0. 0. 0. 0. 0. 0. 1.]\n",
      " [1. 0. 0. 0. 0. 0. 0. 1.]\n",
      " [1. 1. 1. 1. 1. 1. 1. 1.]]\n",
      "x: 2\n",
      "y: 0\n",
      "la case est déjà parcourue\n",
      "x: 2\n",
      "y: 1\n",
      "je suis trop tot au checkpoint\n",
      "x: 2\n",
      "y: 2\n",
      "dist 1\n",
      "nb_etapes-restantes 4\n",
      "[[1. 1. 1. 1. 1. 1. 1. 1.]\n",
      " [1. 1. 0. 0. 0. 0. 0. 1.]\n",
      " [1. 0. 1. 0. 0. 0. 0. 1.]\n",
      " [1. 0. 0. 0. 0. 0. 0. 1.]\n",
      " [1. 1. 1. 1. 1. 1. 1. 1.]]\n",
      "c'est encore possible pour moi\n"
     ]
    },
    {
     "ename": "NameError",
     "evalue": "name 'liste_solution' is not defined",
     "output_type": "error",
     "traceback": [
      "\u001b[1;31m---------------------------------------------------------------------------\u001b[0m",
      "\u001b[1;31mNameError\u001b[0m                                 Traceback (most recent call last)",
      "Cell \u001b[1;32mIn[405], line 1\u001b[0m\n\u001b[1;32m----> 1\u001b[0m programme_final(\u001b[38;5;124m\"\u001b[39m\u001b[38;5;124mC:/Users/combl/Documents/Espagne/Algoritmo_basico/practicas/p3/test.txt\u001b[39m\u001b[38;5;124m\"\u001b[39m)\n",
      "Cell \u001b[1;32mIn[403], line 27\u001b[0m, in \u001b[0;36mprogramme_final\u001b[1;34m(chemin)\u001b[0m\n\u001b[0;32m     24\u001b[0m prochain_checkpoint \u001b[38;5;241m=\u001b[39m checkpoint[\u001b[38;5;241m0\u001b[39m]\n\u001b[0;32m     25\u001b[0m etape_actuelle \u001b[38;5;241m=\u001b[39m \u001b[38;5;241m0\u001b[39m\n\u001b[1;32m---> 27\u001b[0m parcourir_voisins((\u001b[38;5;241m1\u001b[39m,\u001b[38;5;241m1\u001b[39m), liste_solutions[\u001b[38;5;241m0\u001b[39m], prochaine_etape, prochain_checkpoint,  etape_actuelle)\n",
      "Cell \u001b[1;32mIn[401], line 36\u001b[0m, in \u001b[0;36mparcourir_voisins\u001b[1;34m(coordonnees, liste_solution_complet, etape, checkpoint, etape_actuelle)\u001b[0m\n\u001b[0;32m     34\u001b[0m \u001b[38;5;28mprint\u001b[39m(new_matrice)\n\u001b[0;32m     35\u001b[0m \u001b[38;5;28mprint\u001b[39m(\u001b[38;5;124m\"\u001b[39m\u001b[38;5;124mc\u001b[39m\u001b[38;5;124m'\u001b[39m\u001b[38;5;124mest encore possible pour moi\u001b[39m\u001b[38;5;124m\"\u001b[39m)\n\u001b[1;32m---> 36\u001b[0m liste_solution\u001b[38;5;241m.\u001b[39mappend((case_x,case_y))\n\u001b[0;32m     37\u001b[0m \u001b[38;5;28;01mif\u001b[39;00m verification_entoure(matrice):\n\u001b[0;32m     38\u001b[0m     \u001b[38;5;28mprint\u001b[39m(\u001b[38;5;124m\"\u001b[39m\u001b[38;5;124mil n\u001b[39m\u001b[38;5;124m'\u001b[39m\u001b[38;5;124my a pas de point bloqué\u001b[39m\u001b[38;5;124m\"\u001b[39m)\n",
      "\u001b[1;31mNameError\u001b[0m: name 'liste_solution' is not defined"
     ]
    }
   ],
   "source": [
    "programme_final(\"C:/Users/combl/Documents/Espagne/Algoritmo_basico/practicas/p3/test.txt\")"
   ]
  },
  {
   "cell_type": "code",
   "execution_count": null,
   "id": "c309f044-fc9c-47e3-a63a-73c766b89555",
   "metadata": {},
   "outputs": [],
   "source": []
  },
  {
   "cell_type": "code",
   "execution_count": null,
   "id": "a7261c72-2ac0-4a99-b1da-40a1273515e0",
   "metadata": {},
   "outputs": [],
   "source": []
  }
 ],
 "metadata": {
  "kernelspec": {
   "display_name": "Python [conda env:base] *",
   "language": "python",
   "name": "conda-base-py"
  },
  "language_info": {
   "codemirror_mode": {
    "name": "ipython",
    "version": 3
   },
   "file_extension": ".py",
   "mimetype": "text/x-python",
   "name": "python",
   "nbconvert_exporter": "python",
   "pygments_lexer": "ipython3",
   "version": "3.12.7"
  }
 },
 "nbformat": 4,
 "nbformat_minor": 5
}
